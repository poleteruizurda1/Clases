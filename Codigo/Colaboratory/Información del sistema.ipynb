
Open In Colab

#IMPORTAMOS LIBRERIAS.

import psutil
import platform
from datetime import datetime

def get_size(bytes, suffix="B"):
  factor = 1024
  for unit in ["", "K", "M", "G", "T", "P"]:
    if bytes < factor:
      return f"{bytes: .2f} {unit} {suffix}"
    bytes /= factor


#INFORMACION BASICA DEL SISTEMA.

print("="*40, "System Information", "="*40)
uname = platform.uname()
print(f"System: {uname.system}")
print(f"Node Name: {uname.node}")
print(f"Release: {uname.release}")
print(f"Version: {uname.version}")
print(f"Machine: {uname.machine}")
print(f"Processor: {uname.processor}")

print("="*40, "Lenguaje Programación", "="*40)
print("versión interprete: ",platform.python_compiler())
print("número de compilación: ",platform.python_build())

#INFORMACION DE LA CPU

print ("="*40, "CPU Info", "="*40)

#N° NUCLEOS

print ("Physical cores:", psutil.cpu_count (logical=False) )

print ("Total cores:", psutil.cpu_count (logical=True) )

#FRECUENCIAS CPU

cpufreq = psutil.cpu_freq()

print(f"Max Frequency: {cpufreq.max:.2f}Mhz")
print(f"Min Frequency: {cpufreq.min:.2f}Mhz")
print(f"Current Frequency: {cpufreq.current:.2f}Mhz")

#USO DE CPU
print("CPU Usage Per Core:")
for i, percentage in enumerate (psutil.cpu_percent (percpu=True)):
  print(f"Core {i}: {percentage}%")
print(f"Total CPU Usage: {psutil.cpu_percent () }%")

#MEMORIA

print ("="*40, "Memory Information", "="*40)
svmem = psutil.virtual_memory()

print (f"Total: {get_size(svmem.total)}")
print (f"Available: {get_size(svmem.available) }")
print (f"Used: {get_size(svmem.used) }")
print (f"Percentage: {svmem.percent}%")
print ("="*20, "SWAP", "="*20)

swap = psutil.swap_memory()

print(f"Total: {get_size(swap.total)}")
print(f"Free: {get_size(swap.free) }")
print(f"Used: {get_size(swap.used) }")
print(f"Percentage: {swap.percent}%")

#INFORMACION DEL DISCO DURO
print("="*40, "Disk Information", "="*40)
print("Partitions and Usage:")
partitions = psutil.disk_partitions()
for partition in partitions:
  print(f"=== Device: {partition.device} ===")
  print(f" Mountpoint: {partition.mountpoint}")
  print(f" File system type: {partition.fstype}")
  try:
    partition_usage = psutil.disk_usage (partition.mountpoint)
  except PermissionError:
    continue
  print(f" Total Size: {get_size(partition_usage.total)}")
  print(f" Used: {get_size(partition_usage.used) }")
  print(f" Free: {get_size(partition_usage.free)}")
  print(f" Percentage: {partition_usage.percent}%")
disk_io = psutil.disk_io_counters()
print(f"Total read: {get_size(disk_io.read_bytes)}")
print(f"Total write: {get_size(disk_io.write_bytes)}")


#INFORMACION DE REDES
print("="*40, "Network Information", "="*40)
if_addrs = psutil.net_if_addrs()
for interface_name, interface_addresses in if_addrs.items():
  for address in interface_addresses:
    print (f"=== Interface: {interface_name} ===")
    if str(address.family) == 'AddressFamily.AF_INET':
      print(f" IP Address: {address.address}")
      print(f" Netmask: {address.netmask}")
      print(f" Broadcast IP: {address.broadcast}")
    elif str(address.family) == 'AddressFamily.AF_PACKET':
      print(f" MAC Address: {address.address}")
      print(f" Netmask: {address.netmask}")
      print(f" Broadcast MAC: {address.broadcast}")
net_io = psutil.net_io_counters()
print(f"Total Bytes Sent: {get_size(net_io.bytes_sent)}")
print(f"Total Bytes Received: {get_size(net_io.bytes_recv)}")

     
======================================== System Information ========================================
System: Linux
Node Name: d9ce9cb900ed
Release: 5.10.147+
Version: #1 SMP Sat Dec 10 16:00:40 UTC 2022
Machine: x86_64
Processor: x86_64
======================================== Lenguaje Programación ========================================
versión interprete:  GCC 9.4.0
número de compilación:  ('main', 'Dec  7 2022 01:11:51')
======================================== CPU Info ========================================
Physical cores: 1
Total cores: 2
Max Frequency: 0.00Mhz
Min Frequency: 0.00Mhz
Current Frequency: 2200.00Mhz
CPU Usage Per Core:
Core 0: 11.4%
Core 1: 13.5%
Total CPU Usage: 12.5%
======================================== Memory Information ========================================
Total:  12.68 G B
Available:  11.74 G B
Used:  682.31 M B
Percentage: 7.4%
==================== SWAP ====================
Total:  0.00  B
Free:  0.00  B
Used:  0.00  B
Percentage: 0.0%
======================================== Disk Information ========================================
Partitions and Usage:
=== Device: /dev/root ===
 Mountpoint: /usr/sbin/docker-init
 File system type: ext2
 Total Size:  1.91 G B
 Used:  1.09 G B
 Free:  840.96 M B
 Percentage: 57.0%
=== Device: /dev/sda1 ===
 Mountpoint: /etc/resolv.conf
 File system type: ext4
 Total Size:  69.65 G B
 Used:  42.17 G B
 Free:  27.46 G B
 Percentage: 60.6%
=== Device: /dev/sda1 ===
 Mountpoint: /etc/hostname
 File system type: ext4
 Total Size:  69.65 G B
 Used:  42.17 G B
 Free:  27.46 G B
 Percentage: 60.6%
=== Device: /dev/sda1 ===
 Mountpoint: /etc/hosts
 File system type: ext4
 Total Size:  69.65 G B
 Used:  42.17 G B
 Free:  27.46 G B
 Percentage: 60.6%
Total read:  4.73 G B
Total write:  1.16 G B
======================================== Network Information ========================================
=== Interface: lo ===
 IP Address: 127.0.0.1
 Netmask: 255.0.0.0
 Broadcast IP: None
=== Interface: lo ===
 MAC Address: 00:00:00:00:00:00
 Netmask: None
 Broadcast MAC: None
=== Interface: eth0 ===
 IP Address: 172.28.0.12
 Netmask: 255.255.0.0
 Broadcast IP: 172.28.255.255
=== Interface: eth0 ===
 MAC Address: 02:42:ac:1c:00:0c
 Netmask: None
 Broadcast MAC: ff:ff:ff:ff:ff:ff
Total Bytes Sent:  2.87 M B
Total Bytes Received:  3.40 M B

def calcula_host(mascara):
  if mascara==None or mascara=='None' or mascara=="":
    return None
  mascarabin=""
  mascara = mascara.split(".")
  for i in range(4):
    bin = "{0:b}".format(int(mascara[i]))
    if len(bin)==8:
      mascarabin +=  bin
    else:
      faltan = 8 - len(bin)
      bin = faltan*"0"+bin
      mascarabin +=  bin
  return "El numero de host posible es: "+str((2**(mascarabin.count("0")))-2)

mascara=input("Dame una mascara para calcular los host posibles(255.255.255.0): ")
print(calcula_host(mascara))

     
Dame una mascara para calcular los host posibles(255.255.255.0): None
None

import psutil
import platform
from datetime import datetime

print("="*40, "Calculo de host por cada mascara de Interfaz", "="*40)
if_addrs = psutil.net_if_addrs()
for interface_name, interface_addresses in if_addrs.items():
  for address in interface_addresses:
    print (f"=== Interface: {interface_name} ===")
    if str(address.family) == 'AddressFamily.AF_INET':
      print(f" Netmask: {address.netmask}")
      print(calcula_host(str(address.netmask)))
    elif str(address.family) == 'AddressFamily.AF_PACKET':
      print(f" Netmask: {address.netmask}")
      print(calcula_host(str(address.netmask)))
    else:
      print(f" Netmask: {address.netmask}")
      print(calcula_host(str(address.netmask)))


     
======================================== Calculo de host por cada mascara de Interfaz ========================================
=== Interface: lo ===
 Netmask: 255.0.0.0
El numero de host posible es: 16777214
=== Interface: lo ===
 Netmask: None
None
=== Interface: eth0 ===
 Netmask: 255.255.0.0
El numero de host posible es: 65534
=== Interface: eth0 ===
 Netmask: None
None
